{
 "cells": [
  {
   "cell_type": "code",
   "execution_count": 1,
   "id": "f08eeb04-83ef-4fa3-963b-f3e33f370053",
   "metadata": {},
   "outputs": [],
   "source": [
    "gz## Imports\n",
    "import torch\n",
    "import torchvision ## Contains some utilities for working with the image data\n",
    "from torchvision.datasets import MNIST\n",
    "import matplotlib.pyplot as plt\n",
    "#%matplotlib inline\n",
    "import torchvision.transforms as transforms\n",
    "from torch.utils.data import random_split\n",
    "from torch.utils.data import DataLoader\n",
    "import torch.nn.functional as F"
   ]
  },
  {
   "cell_type": "code",
   "execution_count": 38,
   "id": "0859f863-27dd-433b-874e-8c99626361e4",
   "metadata": {},
   "outputs": [],
   "source": [
    "## !wget www.di.ens.fr/~lelarge/MNIST.tar.gz"
   ]
  },
  {
   "cell_type": "code",
   "execution_count": 3,
   "id": "07838621-3375-4a38-aaf2-e66e9ee47204",
   "metadata": {},
   "outputs": [
    {
     "name": "stdout",
     "output_type": "stream",
     "text": [
      "MNIST/\n",
      "MNIST/raw/\n",
      "MNIST/raw/train-labels-idx1-ubyte\n",
      "MNIST/raw/t10k-labels-idx1-ubyte.gz\n",
      "MNIST/raw/t10k-labels-idx1-ubyte\n",
      "MNIST/raw/t10k-images-idx3-ubyte.gz\n",
      "MNIST/raw/train-images-idx3-ubyte\n",
      "MNIST/raw/train-labels-idx1-ubyte.gz\n",
      "MNIST/raw/t10k-images-idx3-ubyte\n",
      "MNIST/raw/train-images-idx3-ubyte.gz\n",
      "MNIST/processed/\n",
      "MNIST/processed/training.pt\n",
      "MNIST/processed/test.pt\n"
     ]
    }
   ],
   "source": [
    "!tar -zxvf MNIST.tar.gz"
   ]
  },
  {
   "cell_type": "code",
   "execution_count": 4,
   "id": "f17d7410-2002-42f8-8311-e9e1b70f930d",
   "metadata": {},
   "outputs": [],
   "source": [
    "#torchvision.datasets.MNIST(root=\"./\",download=True)\n",
    "dataset = MNIST(root = './', download = True)"
   ]
  },
  {
   "cell_type": "code",
   "execution_count": 5,
   "id": "b33a8043-5be8-4887-8254-c2697327e3b6",
   "metadata": {},
   "outputs": [
    {
     "name": "stdout",
     "output_type": "stream",
     "text": [
      "60000\n"
     ]
    }
   ],
   "source": [
    "#check total items in dataset\n",
    "print(len(dataset))\n"
   ]
  },
  {
   "cell_type": "code",
   "execution_count": 6,
   "id": "dd80b817-9225-4a45-a68c-05d795953581",
   "metadata": {},
   "outputs": [
    {
     "name": "stdout",
     "output_type": "stream",
     "text": [
      "Label: 4\n"
     ]
    },
    {
     "data": {
      "image/png": "[encoded data removed]",
      "text/plain": [
       "<Figure size 640x480 with 1 Axes>"
      ]
     },
     "metadata": {},
     "output_type": "display_data"
    }
   ],
   "source": [
    "#change index of dataset to see different image\n",
    "image, label = dataset[1008]\n",
    "plt.imshow(image, cmap = 'gray')\n",
    "print('Label:', label)"
   ]
  },
  {
   "cell_type": "markdown",
   "id": "025b7acb-198c-4d15-92d3-ced3c15534a4",
   "metadata": {},
   "source": [
    "---\n",
    "\n",
    "## Loading the MNIST data with transformation applied while loading\n"
   ]
  },
  {
   "cell_type": "code",
   "execution_count": 7,
   "id": "d050710c-1173-49ff-b2ba-2c15370de6f9",
   "metadata": {},
   "outputs": [
    {
     "name": "stdout",
     "output_type": "stream",
     "text": [
      "Dataset MNIST\n",
      "    Number of datapoints: 60000\n",
      "    Root location: ./\n",
      "    Split: Train\n",
      "    StandardTransform\n",
      "Transform: ToTensor()\n"
     ]
    }
   ],
   "source": [
    "## MNIST dataset(images and labels)\n",
    "mnist_dataset = MNIST(root = './', train = True, transform = transforms.ToTensor())\n",
    "print(mnist_dataset)"
   ]
  },
  {
   "cell_type": "code",
   "execution_count": 8,
   "id": "57edf40b-a771-4582-9ece-1183d4a204fb",
   "metadata": {},
   "outputs": [
    {
     "name": "stdout",
     "output_type": "stream",
     "text": [
      "torch.Size([1, 28, 28]) 5\n"
     ]
    }
   ],
   "source": [
    "image_tensor, label = mnist_dataset[0]\n",
    "print(image_tensor.shape, label)"
   ]
  },
  {
   "cell_type": "code",
   "execution_count": 9,
   "id": "b11a9926-b530-4f51-af47-db39f90aa4f1",
   "metadata": {},
   "outputs": [
    {
     "name": "stdout",
     "output_type": "stream",
     "text": [
      "tensor([[[0.0039, 0.6039, 0.9922, 0.3529, 0.0000],\n",
      "         [0.0000, 0.5451, 0.9922, 0.7451, 0.0078],\n",
      "         [0.0000, 0.0431, 0.7451, 0.9922, 0.2745],\n",
      "         [0.0000, 0.0000, 0.1373, 0.9451, 0.8824],\n",
      "         [0.0000, 0.0000, 0.0000, 0.3176, 0.9412]]])\n",
      "tensor(1.) tensor(0.)\n"
     ]
    }
   ],
   "source": [
    "print(image_tensor[:,10:15,10:15])\n",
    "print(torch.max(image_tensor), torch.min(image_tensor))"
   ]
  },
  {
   "cell_type": "code",
   "execution_count": 10,
   "id": "c8b2e732-50f0-4a57-84bb-96802c638c84",
   "metadata": {},
   "outputs": [
    {
     "data": {
      "text/plain": [
       "<matplotlib.image.AxesImage at 0x75dbcefd9790>"
      ]
     },
     "execution_count": 10,
     "metadata": {},
     "output_type": "execute_result"
    },
    {
     "data": {
      "image/png": "[encoded data removed]",
      "text/plain": [
       "<Figure size 640x480 with 1 Axes>"
      ]
     },
     "metadata": {},
     "output_type": "display_data"
    }
   ],
   "source": [
    "## Plot the image of the tensor\n",
    "plt.imshow(image_tensor[0,10:15,10:15],cmap = 'gray')"
   ]
  },
  {
   "cell_type": "markdown",
   "id": "1067c0e2-5f9f-410f-99b1-535456bd5b2a",
   "metadata": {},
   "source": [
    "---\n",
    "\n",
    "## Training and Validation Datasets"
   ]
  },
  {
   "cell_type": "code",
   "execution_count": 11,
   "id": "5b426ca9-9d15-4822-a254-85970284519b",
   "metadata": {},
   "outputs": [
    {
     "name": "stdout",
     "output_type": "stream",
     "text": [
      "length of Train Datasets:  50000\n",
      "length of Validation Datasets:  10000\n"
     ]
    }
   ],
   "source": [
    "train_data, validation_data = random_split(mnist_dataset, [50000, 10000])\n",
    "## Print the length of train and validation datasets\n",
    "print(\"length of Train Datasets: \", len(train_data))\n",
    "print(\"length of Validation Datasets: \", len(validation_data))"
   ]
  },
  {
   "cell_type": "markdown",
   "id": "77ed4afe-cff1-4d0f-bfc0-ad8c0582bf37",
   "metadata": {},
   "source": [
    "---\n",
    "\n",
    "While building a machine learning/Deep learning models, it is common to split the dataset into 3 parts:\n",
    "\n",
    "Training set - The part of the data will be used to train the model,compute the loss and adjust the weights of the model using gradient descent.\n",
    "Validation set - This part of the dataset will be used to evalute the traing model, adjusting the hyperparameters and pick the best version of the model.\n",
    "Test set - This part of the dataset is used to final check the model predictions on the new unseen data to evaluate how well the model is performing."
   ]
  },
  {
   "cell_type": "code",
   "execution_count": 12,
   "id": "df729e73-f903-415b-adb9-f3c18edb538c",
   "metadata": {},
   "outputs": [],
   "source": [
    "batch_size = 128\n",
    "train_loader = DataLoader(train_data, batch_size, shuffle = True)\n",
    "val_loader = DataLoader(validation_data, batch_size, shuffle = False)"
   ]
  },
  {
   "cell_type": "markdown",
   "id": "efe5581d-d2f7-426f-87db-bf03c76efba8",
   "metadata": {},
   "source": [
    "---\n",
    "\n",
    "## Defining the Logistic Model"
   ]
  },
  {
   "cell_type": "code",
   "execution_count": 13,
   "id": "90e99551-84a1-42eb-900d-14f197473fb5",
   "metadata": {},
   "outputs": [
    {
     "name": "stdout",
     "output_type": "stream",
     "text": [
      "torch.Size([10, 784]) torch.Size([10])\n"
     ]
    },
    {
     "data": {
      "text/plain": [
       "[Parameter containing:\n",
       " tensor([[ 0.0058, -0.0153,  0.0020,  ...,  0.0161,  0.0284,  0.0050],\n",
       "         [-0.0076, -0.0136, -0.0050,  ..., -0.0352, -0.0064,  0.0166],\n",
       "         [ 0.0145,  0.0242,  0.0171,  ...,  0.0327,  0.0161, -0.0354],\n",
       "         ...,\n",
       "         [ 0.0074, -0.0118,  0.0196,  ..., -0.0106,  0.0092, -0.0074],\n",
       "         [ 0.0252, -0.0182,  0.0118,  ...,  0.0348, -0.0305, -0.0075],\n",
       "         [ 0.0102,  0.0303,  0.0005,  ...,  0.0207,  0.0129,  0.0172]],\n",
       "        requires_grad=True),\n",
       " Parameter containing:\n",
       " tensor([-0.0129,  0.0283,  0.0142, -0.0208, -0.0099, -0.0122, -0.0254,  0.0117,\n",
       "         -0.0339,  0.0042], requires_grad=True)]"
      ]
     },
     "execution_count": 13,
     "metadata": {},
     "output_type": "execute_result"
    }
   ],
   "source": [
    "import torch.nn as nn\n",
    "\n",
    "input_size = 28 * 28\n",
    "num_classes = 10\n",
    "\n",
    "class MnistModel(nn.Module):\n",
    "    def __init__(self):\n",
    "        super().__init__()\n",
    "        self.linear = nn.Linear(input_size, num_classes)\n",
    "        \n",
    "    def forward(self, xb):\n",
    "        xb = xb.reshape(-1, 784)\n",
    "        print(xb.shape)\n",
    "        out = self.linear(xb)\n",
    "        print(out)\n",
    "        return(out)\n",
    "\n",
    "model = MnistModel()\n",
    "print(model.linear.weight.shape, model.linear.bias.shape)\n",
    "list(model.parameters())"
   ]
  },
  {
   "cell_type": "code",
   "execution_count": 14,
   "id": "d16203cb-37bf-4897-aa8d-0d75e38668ec",
   "metadata": {},
   "outputs": [
    {
     "name": "stdout",
     "output_type": "stream",
     "text": [
      "torch.Size([128, 784])\n",
      "tensor([[ 8.7887e-02, -1.0449e-01,  1.3694e-01,  ..., -3.5510e-02,\n",
      "         -1.5463e-01, -1.1578e-01],\n",
      "        [ 3.3293e-02, -8.8466e-02, -1.0185e-01,  ..., -2.7706e-02,\n",
      "         -1.4333e-01, -1.8445e-01],\n",
      "        [ 3.4602e-03, -9.9615e-02,  1.1379e-01,  ..., -1.2839e-01,\n",
      "          5.0906e-02,  2.8556e-02],\n",
      "        ...,\n",
      "        [ 9.9824e-04,  1.8791e-01,  3.0241e-01,  ...,  1.1161e-03,\n",
      "         -1.5725e-01, -8.1410e-02],\n",
      "        [-2.5101e-03,  1.2919e-01,  1.2612e-01,  ..., -1.5410e-04,\n",
      "         -6.7245e-02,  3.9038e-02],\n",
      "        [-1.4081e-01, -3.4715e-02,  5.9111e-02,  ..., -1.2769e-01,\n",
      "         -3.5597e-01,  1.4950e-02]], grad_fn=<AddmmBackward0>)\n",
      "outputs shape:  torch.Size([128, 10])\n",
      "Sample outputs: \n",
      " tensor([[ 0.0879, -0.1045,  0.1369,  0.1694,  0.3293, -0.1573, -0.3172, -0.0355,\n",
      "         -0.1546, -0.1158],\n",
      "        [ 0.0333, -0.0885, -0.1019, -0.0697,  0.1621, -0.1590, -0.0346, -0.0277,\n",
      "         -0.1433, -0.1844]])\n"
     ]
    }
   ],
   "source": [
    "for images, labels in train_loader:\n",
    "    outputs = model(images)\n",
    "    break\n",
    "    \n",
    "print('outputs shape: ', outputs.shape)\n",
    "print('Sample outputs: \\n', outputs[:2].data)"
   ]
  },
  {
   "cell_type": "code",
   "execution_count": 15,
   "id": "30018d21-f394-4ca1-9102-d02afb28c08b",
   "metadata": {},
   "outputs": [
    {
     "name": "stdout",
     "output_type": "stream",
     "text": [
      "Sample probabilities:\n",
      " tensor([[0.1091, 0.0900, 0.1146, 0.1183, 0.1389, 0.0854, 0.0728, 0.0964, 0.0856,\n",
      "         0.0890],\n",
      "        [0.1094, 0.0969, 0.0956, 0.0987, 0.1244, 0.0903, 0.1022, 0.1029, 0.0917,\n",
      "         0.0880]])\n",
      "\n",
      "\n",
      "Sum:  0.9999999403953552\n",
      "\n",
      "\n",
      "tensor([4, 4, 2, 9, 2, 7, 4, 9, 2, 4, 4, 3, 4, 4, 9, 4, 4, 4, 2, 2, 4, 3, 2, 2,\n",
      "        4, 2, 4, 4, 3, 4, 4, 4, 4, 2, 9, 2, 3, 1, 4, 4, 3, 6, 0, 4, 4, 4, 4, 4,\n",
      "        2, 5, 4, 4, 4, 0, 4, 4, 1, 2, 4, 4, 4, 4, 2, 4, 4, 3, 3, 4, 2, 4, 4, 2,\n",
      "        2, 2, 4, 3, 4, 4, 4, 2, 4, 4, 4, 2, 2, 4, 4, 2, 1, 4, 1, 3, 2, 4, 1, 2,\n",
      "        4, 4, 4, 4, 9, 4, 0, 4, 4, 2, 4, 0, 2, 4, 1, 2, 4, 2, 4, 4, 0, 2, 4, 4,\n",
      "        4, 4, 4, 2, 0, 2, 4, 4])\n",
      "\n",
      "\n",
      "tensor([0.1389, 0.1244, 0.1148, 0.1472, 0.1398, 0.1210, 0.1215, 0.1179, 0.1281,\n",
      "        0.1406, 0.1536, 0.1338, 0.1689, 0.1295, 0.1243, 0.1354, 0.1362, 0.1387,\n",
      "        0.1348, 0.1260, 0.1528, 0.1318, 0.1307, 0.1384, 0.1299, 0.1365, 0.1838,\n",
      "        0.1281, 0.1227, 0.1251, 0.1438, 0.1407, 0.1306, 0.1186, 0.1274, 0.1259,\n",
      "        0.1259, 0.1193, 0.1223, 0.1349, 0.1232, 0.1332, 0.1429, 0.1426, 0.1104,\n",
      "        0.1369, 0.1250, 0.1748, 0.1156, 0.1191, 0.1350, 0.1495, 0.1415, 0.1266,\n",
      "        0.1243, 0.1372, 0.1131, 0.1224, 0.1168, 0.1715, 0.1206, 0.1202, 0.1714,\n",
      "        0.1532, 0.1285, 0.1301, 0.1392, 0.1352, 0.1304, 0.1490, 0.1240, 0.1292,\n",
      "        0.1296, 0.1224, 0.1484, 0.1319, 0.1296, 0.1478, 0.1189, 0.1391, 0.1611,\n",
      "        0.1485, 0.1553, 0.1215, 0.1268, 0.1306, 0.1266, 0.1271, 0.1232, 0.1464,\n",
      "        0.1203, 0.1189, 0.1340, 0.1110, 0.1255, 0.1306, 0.1308, 0.1484, 0.1563,\n",
      "        0.1367, 0.1345, 0.1476, 0.1247, 0.1340, 0.1585, 0.1450, 0.1255, 0.1308,\n",
      "        0.1350, 0.1459, 0.1346, 0.1349, 0.1277, 0.1361, 0.1262, 0.1342, 0.1333,\n",
      "        0.1266, 0.1461, 0.1399, 0.1506, 0.1634, 0.1260, 0.1173, 0.1197, 0.1325,\n",
      "        0.1302, 0.1342], grad_fn=<MaxBackward0>)\n"
     ]
    }
   ],
   "source": [
    "## Apply softmax for each output row\n",
    "probs = F.softmax(outputs, dim = 1)\n",
    "\n",
    "## checking at sample probabilities\n",
    "print(\"Sample probabilities:\\n\", probs[:2].data)\n",
    "\n",
    "print(\"\\n\")\n",
    "## Add up the probabilities of an output row\n",
    "print(\"Sum: \", torch.sum(probs[0]).item())\n",
    "max_probs, preds = torch.max(probs, dim = 1)\n",
    "print(\"\\n\")\n",
    "print(preds)\n",
    "print(\"\\n\")\n",
    "print(max_probs)"
   ]
  },
  {
   "cell_type": "code",
   "execution_count": 16,
   "id": "2d5bf6cc-6892-4079-aaf5-70d3516d9154",
   "metadata": {},
   "outputs": [
    {
     "data": {
      "text/plain": [
       "tensor([9, 6, 9, 3, 7, 5, 7, 2, 7, 6, 7, 5, 0, 8, 1, 8, 8, 9, 1, 7, 7, 8, 1, 9,\n",
       "        2, 9, 4, 8, 3, 6, 9, 6, 5, 1, 3, 2, 8, 1, 6, 4, 6, 2, 9, 8, 6, 3, 4, 0,\n",
       "        6, 6, 5, 8, 7, 5, 6, 2, 1, 7, 3, 4, 5, 9, 9, 2, 2, 0, 2, 4, 1, 8, 3, 4,\n",
       "        7, 1, 4, 2, 7, 0, 5, 2, 9, 9, 0, 1, 7, 7, 1, 7, 6, 2, 9, 7, 9, 6, 1, 2,\n",
       "        2, 5, 0, 6, 8, 4, 3, 3, 9, 1, 5, 5, 5, 4, 0, 5, 6, 1, 0, 5, 4, 1, 0, 0,\n",
       "        7, 9, 0, 7, 0, 1, 7, 0])"
      ]
     },
     "execution_count": 16,
     "metadata": {},
     "output_type": "execute_result"
    }
   ],
   "source": [
    "labels"
   ]
  },
  {
   "cell_type": "markdown",
   "id": "1ef4f42c-d243-4bf2-97bd-0c0f770080e8",
   "metadata": {},
   "source": [
    "---\n",
    "\n",
    "## Evaluation Metric and Loss Function"
   ]
  },
  {
   "cell_type": "code",
   "execution_count": 17,
   "id": "958f1f9b-3ed4-43b7-ad7c-c65d1cef8233",
   "metadata": {},
   "outputs": [
    {
     "name": "stdout",
     "output_type": "stream",
     "text": [
      "Accuracy:  tensor(0.1250)\n",
      "\n",
      "\n",
      "Loss Function:  <function cross_entropy at 0x75dbca5bf2e0>\n",
      "\n",
      "\n",
      "tensor(2.3375, grad_fn=<NllLossBackward0>)\n"
     ]
    }
   ],
   "source": [
    "def accuracy(outputs, labels):\n",
    "    _, preds = torch.max(outputs, dim = 1)\n",
    "    return(torch.tensor(torch.sum(preds == labels).item()/ len(preds)))\n",
    "\n",
    "print(\"Accuracy: \",accuracy(outputs, labels))\n",
    "print(\"\\n\")\n",
    "loss_fn = F.cross_entropy\n",
    "print(\"Loss Function: \",loss_fn)\n",
    "print(\"\\n\")\n",
    "## Loss for the current batch\n",
    "loss = loss_fn(outputs, labels)\n",
    "print(loss)"
   ]
  },
  {
   "cell_type": "markdown",
   "id": "36e321c1-6112-4d35-9ab4-4d1800cf3a88",
   "metadata": {},
   "source": [
    "---\n",
    "\n",
    "### Training the Model"
   ]
  },
  {
   "cell_type": "code",
   "execution_count": 18,
   "id": "4c0c8c83-3d7a-42af-a79b-ed432e762f0c",
   "metadata": {},
   "outputs": [],
   "source": [
    "class MnistModel(nn.Module):\n",
    "    def __init__(self):\n",
    "        super().__init__()\n",
    "        self.linear = nn.Linear(input_size, num_classes)\n",
    "    \n",
    "    def forward(self, xb):\n",
    "        xb = xb.reshape(-1, 784)\n",
    "        out = self.linear(xb)\n",
    "        return(out)\n",
    "    \n",
    "    def training_step(self, batch):\n",
    "        images, labels = batch\n",
    "        out = self(images) ## Generate predictions\n",
    "        loss = F.cross_entropy(out, labels) ## Calculate the loss\n",
    "        return(loss)\n",
    "    \n",
    "    def validation_step(self, batch):\n",
    "        images, labels = batch\n",
    "        out = self(images)\n",
    "        loss = F.cross_entropy(out, labels)\n",
    "        acc = accuracy(out, labels)\n",
    "        return({'val_loss':loss, 'val_acc': acc})\n",
    "    \n",
    "    def validation_epoch_end(self, outputs):\n",
    "        batch_losses = [x['val_loss'] for x in outputs]\n",
    "        epoch_loss = torch.stack(batch_losses).mean()\n",
    "        batch_accs = [x['val_acc'] for x in outputs]\n",
    "        epoch_acc = torch.stack(batch_accs).mean()\n",
    "        return({'val_loss': epoch_loss.item(), 'val_acc' : epoch_acc.item()})\n",
    "    \n",
    "    def epoch_end(self, epoch,result):\n",
    "        print(\"Epoch [{}], val_loss: {:.4f}, val_acc: {:.4f}\".format(epoch, result['val_loss'], result['val_acc']))\n",
    "        \n",
    "    \n",
    "model = MnistModel()"
   ]
  },
  {
   "cell_type": "code",
   "execution_count": 19,
   "id": "c9dbea52-3ad4-456f-8540-c4fe01fac505",
   "metadata": {},
   "outputs": [],
   "source": [
    "def evaluate(model, val_loader):\n",
    "    outputs = [model.validation_step(batch) for batch in val_loader]\n",
    "    return(model.validation_epoch_end(outputs))\n",
    "\n",
    "def fit(epochs, lr, model, train_loader, val_loader, opt_func = torch.optim.SGD):\n",
    "    history = []\n",
    "    optimizer = opt_func(model.parameters(), lr)\n",
    "    for epoch in range(epochs):\n",
    "        \n",
    "        ## Training Phas\n",
    "        for batch in train_loader:\n",
    "            loss = model.training_step(batch)\n",
    "            loss.backward()\n",
    "            optimizer.step()\n",
    "            optimizer.zero_grad()\n",
    "        \n",
    "        ## Validation phase\n",
    "        result = evaluate(model, val_loader)\n",
    "        model.epoch_end(epoch, result)\n",
    "        history.append(result)\n",
    "    return(history)"
   ]
  },
  {
   "cell_type": "code",
   "execution_count": 20,
   "id": "16adb7ee-706a-41ce-ab3c-2ca0da847a10",
   "metadata": {},
   "outputs": [
    {
     "data": {
      "text/plain": [
       "{'val_loss': 2.2872304916381836, 'val_acc': 0.08900316804647446}"
      ]
     },
     "execution_count": 20,
     "metadata": {},
     "output_type": "execute_result"
    }
   ],
   "source": [
    "result0 = evaluate(model, val_loader)\n",
    "result0"
   ]
  },
  {
   "cell_type": "code",
   "execution_count": 21,
   "id": "4ffa3b61-3726-4eec-ad48-a42a86f21bc9",
   "metadata": {},
   "outputs": [
    {
     "name": "stdout",
     "output_type": "stream",
     "text": [
      "Epoch [0], val_loss: 1.9334, val_acc: 0.6240\n",
      "Epoch [1], val_loss: 1.6701, val_acc: 0.7198\n",
      "Epoch [2], val_loss: 1.4733, val_acc: 0.7526\n",
      "Epoch [3], val_loss: 1.3246, val_acc: 0.7742\n",
      "Epoch [4], val_loss: 1.2100, val_acc: 0.7882\n"
     ]
    }
   ],
   "source": [
    "history1 = fit(5, 0.001, model, train_loader, val_loader)"
   ]
  },
  {
   "cell_type": "code",
   "execution_count": 22,
   "id": "748150f6-76ee-4f0b-a4a3-2c280b00781d",
   "metadata": {},
   "outputs": [
    {
     "name": "stdout",
     "output_type": "stream",
     "text": [
      "Epoch [0], val_loss: 1.1198, val_acc: 0.8008\n",
      "Epoch [1], val_loss: 1.0473, val_acc: 0.8091\n",
      "Epoch [2], val_loss: 0.9879, val_acc: 0.8166\n",
      "Epoch [3], val_loss: 0.9384, val_acc: 0.8198\n",
      "Epoch [4], val_loss: 0.8965, val_acc: 0.8241\n"
     ]
    }
   ],
   "source": [
    "history2 = fit(5, 0.001, model, train_loader, val_loader)"
   ]
  },
  {
   "cell_type": "code",
   "execution_count": 23,
   "id": "a97bad53-ec5f-4210-a176-cc8d6f7601ca",
   "metadata": {},
   "outputs": [
    {
     "name": "stdout",
     "output_type": "stream",
     "text": [
      "Epoch [0], val_loss: 0.8607, val_acc: 0.8283\n",
      "Epoch [1], val_loss: 0.8296, val_acc: 0.8322\n",
      "Epoch [2], val_loss: 0.8023, val_acc: 0.8348\n",
      "Epoch [3], val_loss: 0.7782, val_acc: 0.8371\n",
      "Epoch [4], val_loss: 0.7567, val_acc: 0.8398\n"
     ]
    }
   ],
   "source": [
    "history3 = fit(5, 0.001, model, train_loader, val_loader)"
   ]
  },
  {
   "cell_type": "code",
   "execution_count": 24,
   "id": "87319d45-0176-4f51-9f09-374223e25f63",
   "metadata": {},
   "outputs": [
    {
     "name": "stdout",
     "output_type": "stream",
     "text": [
      "Epoch [0], val_loss: 0.7375, val_acc: 0.8417\n",
      "Epoch [1], val_loss: 0.7201, val_acc: 0.8438\n",
      "Epoch [2], val_loss: 0.7043, val_acc: 0.8474\n",
      "Epoch [3], val_loss: 0.6900, val_acc: 0.8489\n",
      "Epoch [4], val_loss: 0.6768, val_acc: 0.8506\n"
     ]
    }
   ],
   "source": [
    "history4 = fit(5, 0.001, model, train_loader, val_loader)"
   ]
  },
  {
   "cell_type": "code",
   "execution_count": 25,
   "id": "f2a896a0-7cd7-4ad7-9d76-709b12e1e475",
   "metadata": {},
   "outputs": [
    {
     "data": {
      "text/plain": [
       "Text(0.5, 1.0, 'Accuracy Vs. No. of epochs')"
      ]
     },
     "execution_count": 25,
     "metadata": {},
     "output_type": "execute_result"
    },
    {
     "data": {
      "image/png": "[encoded data removed]",
      "text/plain": [
       "<Figure size 640x480 with 1 Axes>"
      ]
     },
     "metadata": {},
     "output_type": "display_data"
    }
   ],
   "source": [
    "## Replace these values with your result\n",
    "history = [result0] + history1 + history2 + history3 + history4\n",
    "accuracies = [result['val_acc'] for result in history]\n",
    "plt.plot(accuracies, '-x')\n",
    "plt.xlabel('epoch')\n",
    "plt.ylabel('accuracy')\n",
    "plt.title('Accuracy Vs. No. of epochs')"
   ]
  },
  {
   "cell_type": "markdown",
   "id": "c07b09dc-aa34-424f-a206-8794680351cc",
   "metadata": {},
   "source": [
    "\n",
    "---\n",
    "### Testing with individual images"
   ]
  },
  {
   "cell_type": "code",
   "execution_count": 26,
   "id": "090f2322-5c1d-4e1b-8240-fb92c1e9bc10",
   "metadata": {},
   "outputs": [
    {
     "data": {
      "text/plain": [
       "10000"
      ]
     },
     "execution_count": 26,
     "metadata": {},
     "output_type": "execute_result"
    }
   ],
   "source": [
    "## Define the test dataset\n",
    "test_dataset = MNIST(root = './', train = False, transform = transforms.ToTensor())\n",
    "len(test_dataset)"
   ]
  },
  {
   "cell_type": "code",
   "execution_count": 27,
   "id": "54a9fcb4-50f1-4af1-ba3f-7028ce569c5b",
   "metadata": {},
   "outputs": [
    {
     "name": "stdout",
     "output_type": "stream",
     "text": [
      "shape:  torch.Size([1, 28, 28])\n",
      "Label:  7\n"
     ]
    },
    {
     "data": {
      "image/png": "[encoded data removed]",
      "text/plain": [
       "<Figure size 640x480 with 1 Axes>"
      ]
     },
     "metadata": {},
     "output_type": "display_data"
    }
   ],
   "source": [
    "img, label = test_dataset[0]\n",
    "plt.imshow(img[0], cmap = 'gray')\n",
    "print(\"shape: \", img.shape)\n",
    "print('Label: ', label)"
   ]
  },
  {
   "cell_type": "code",
   "execution_count": 28,
   "id": "1ebfbf29-f6c8-416c-ae32-dc30454b8f93",
   "metadata": {},
   "outputs": [
    {
     "name": "stdout",
     "output_type": "stream",
     "text": [
      "torch.Size([1, 1, 28, 28])\n",
      "torch.Size([1, 28, 28])\n"
     ]
    }
   ],
   "source": [
    "print(img.unsqueeze(0).shape)\n",
    "print(img.shape)"
   ]
  },
  {
   "cell_type": "code",
   "execution_count": 29,
   "id": "ed015191-795b-4554-b3cb-5e87c87ffc01",
   "metadata": {},
   "outputs": [],
   "source": [
    "def predict_image(img, model):\n",
    "    xb = img.unsqueeze(0)\n",
    "    yb = model(xb)\n",
    "    _, preds = torch.max(yb, dim = 1)\n",
    "    return(preds[0].item())"
   ]
  },
  {
   "cell_type": "code",
   "execution_count": 30,
   "id": "f03e61e4-6f23-43ef-93bc-2f825267fb47",
   "metadata": {},
   "outputs": [
    {
     "name": "stdout",
     "output_type": "stream",
     "text": [
      "Label: 7 , Predicted : 7\n"
     ]
    },
    {
     "data": {
      "image/png": "[encoded data removed]",
      "text/plain": [
       "<Figure size 640x480 with 1 Axes>"
      ]
     },
     "metadata": {},
     "output_type": "display_data"
    }
   ],
   "source": [
    "img, label = test_dataset[0]\n",
    "plt.imshow(img[0], cmap = 'gray')\n",
    "print('Label:', label, ', Predicted :', predict_image(img, model))"
   ]
  },
  {
   "cell_type": "code",
   "execution_count": 31,
   "id": "83b2ecf4-b059-4a04-90ed-a58f8556f391",
   "metadata": {},
   "outputs": [
    {
     "name": "stdout",
     "output_type": "stream",
     "text": [
      "Label: 9 ,Predicted: 9\n"
     ]
    },
    {
     "data": {
      "image/png": "[encoded data removed]",
      "text/plain": [
       "<Figure size 640x480 with 1 Axes>"
      ]
     },
     "metadata": {},
     "output_type": "display_data"
    }
   ],
   "source": [
    "img, label = test_dataset[9]\n",
    "plt.imshow(img[0], cmap = 'gray')\n",
    "print(\"Label:\", label, ',Predicted:', predict_image(img, model))"
   ]
  },
  {
   "cell_type": "code",
   "execution_count": 32,
   "id": "a3c518f5-5e05-41a8-84ff-2d8c43c4d59e",
   "metadata": {},
   "outputs": [
    {
     "name": "stdout",
     "output_type": "stream",
     "text": [
      "Label: 9 ,Predicted: 9\n"
     ]
    },
    {
     "data": {
      "image/png": "[encoded data removed]",
      "text/plain": [
       "<Figure size 640x480 with 1 Axes>"
      ]
     },
     "metadata": {},
     "output_type": "display_data"
    }
   ],
   "source": [
    "img, label = test_dataset[7]\n",
    "plt.imshow(img[0], cmap = 'gray')\n",
    "print(\"Label:\", label, ',Predicted:', predict_image(img, model))"
   ]
  },
  {
   "cell_type": "code",
   "execution_count": 33,
   "id": "d610d206-42b0-4b13-af05-ddac522a8025",
   "metadata": {},
   "outputs": [
    {
     "data": {
      "text/plain": [
       "{'val_loss': 0.6406567692756653, 'val_acc': 0.861035168170929}"
      ]
     },
     "execution_count": 33,
     "metadata": {},
     "output_type": "execute_result"
    }
   ],
   "source": [
    "test_loader = DataLoader(test_dataset, batch_size = 256)\n",
    "result = evaluate(model, test_loader)\n",
    "result"
   ]
  },
  {
   "cell_type": "markdown",
   "id": "4d2708a0-2347-4223-ac8c-2a9fe35d7a33",
   "metadata": {},
   "source": [
    "---"
   ]
  },
  {
   "cell_type": "code",
   "execution_count": 34,
   "id": "70a969d1-b865-443f-9b70-7dcfb8d38e31",
   "metadata": {},
   "outputs": [],
   "source": [
    "torch.save(model.state_dict(), 'mnist-logistic.pth')"
   ]
  },
  {
   "cell_type": "code",
   "execution_count": 35,
   "id": "e355afa0-edf6-438b-9329-5dc33206c954",
   "metadata": {},
   "outputs": [
    {
     "data": {
      "text/plain": [
       "OrderedDict([('linear.weight',\n",
       "              tensor([[-0.0147,  0.0228,  0.0107,  ..., -0.0072,  0.0004, -0.0140],\n",
       "                      [-0.0094,  0.0245,  0.0306,  ..., -0.0352, -0.0207,  0.0239],\n",
       "                      [-0.0274,  0.0296, -0.0313,  ...,  0.0206, -0.0255, -0.0339],\n",
       "                      ...,\n",
       "                      [ 0.0191,  0.0356,  0.0242,  ...,  0.0098, -0.0101, -0.0341],\n",
       "                      [ 0.0165, -0.0244,  0.0121,  ...,  0.0118, -0.0085,  0.0011],\n",
       "                      [-0.0131, -0.0351,  0.0110,  ...,  0.0316, -0.0036, -0.0074]])),\n",
       "             ('linear.bias',\n",
       "              tensor([-0.0454,  0.1309, -0.0092, -0.0650,  0.0076,  0.0762,  0.0229,  0.0659,\n",
       "                      -0.1131, -0.0176]))])"
      ]
     },
     "execution_count": 35,
     "metadata": {},
     "output_type": "execute_result"
    }
   ],
   "source": [
    "model.state_dict()"
   ]
  },
  {
   "cell_type": "code",
   "execution_count": 36,
   "id": "ab932c01-9223-4fc2-ac62-0cced79711d4",
   "metadata": {},
   "outputs": [
    {
     "data": {
      "text/plain": [
       "OrderedDict([('linear.weight',\n",
       "              tensor([[-0.0147,  0.0228,  0.0107,  ..., -0.0072,  0.0004, -0.0140],\n",
       "                      [-0.0094,  0.0245,  0.0306,  ..., -0.0352, -0.0207,  0.0239],\n",
       "                      [-0.0274,  0.0296, -0.0313,  ...,  0.0206, -0.0255, -0.0339],\n",
       "                      ...,\n",
       "                      [ 0.0191,  0.0356,  0.0242,  ...,  0.0098, -0.0101, -0.0341],\n",
       "                      [ 0.0165, -0.0244,  0.0121,  ...,  0.0118, -0.0085,  0.0011],\n",
       "                      [-0.0131, -0.0351,  0.0110,  ...,  0.0316, -0.0036, -0.0074]])),\n",
       "             ('linear.bias',\n",
       "              tensor([-0.0454,  0.1309, -0.0092, -0.0650,  0.0076,  0.0762,  0.0229,  0.0659,\n",
       "                      -0.1131, -0.0176]))])"
      ]
     },
     "execution_count": 36,
     "metadata": {},
     "output_type": "execute_result"
    }
   ],
   "source": [
    "model2 = MnistModel()\n",
    "model2.load_state_dict(torch.load('mnist-logistic.pth'))\n",
    "model2.state_dict()"
   ]
  },
  {
   "cell_type": "code",
   "execution_count": 37,
   "id": "d858681d-d832-4673-bd74-a576070e401b",
   "metadata": {},
   "outputs": [
    {
     "data": {
      "text/plain": [
       "{'val_loss': 0.6406567692756653, 'val_acc': 0.861035168170929}"
      ]
     },
     "execution_count": 37,
     "metadata": {},
     "output_type": "execute_result"
    }
   ],
   "source": [
    "test_loader = DataLoader(test_dataset, batch_size = 256)\n",
    "result = evaluate(model2, test_loader)\n",
    "result"
   ]
  },
  {
   "cell_type": "code",
   "execution_count": null,
   "id": "04b8db3e-5070-42fa-8545-f12fcd1f6474",
   "metadata": {},
   "outputs": [],
   "source": []
  }
 ],
 "metadata": {
  "kernelspec": {
   "display_name": "Python 3 (ipykernel)",
   "language": "python",
   "name": "python3"
  },
  "language_info": {
   "codemirror_mode": {
    "name": "ipython",
    "version": 3
   },
   "file_extension": ".py",
   "mimetype": "text/x-python",
   "name": "python",
   "nbconvert_exporter": "python",
   "pygments_lexer": "ipython3",
   "version": "3.12.3"
  },
  "widgets": {
   "application/vnd.jupyter.widget-state+json": {
    "state": {},
    "version_major": 2,
    "version_minor": 0
   }
  }
 },
 "nbformat": 4,
 "nbformat_minor": 5
}
